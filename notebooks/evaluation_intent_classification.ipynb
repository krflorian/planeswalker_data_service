{
 "cells": [
  {
   "cell_type": "code",
   "execution_count": 3,
   "metadata": {},
   "outputs": [],
   "source": [
    "from pathlib import Path \n",
    "import json\n",
    "from transformers import pipeline\n",
    "\n",
    "from src.nli import classify_intent\n",
    "from src.util import load_config\n",
    "\n",
    "config = load_config(Path(\"configs/config.yaml\"))\n",
    "model = pipeline(\n",
    "    \"zero-shot-classification\",\n",
    "    model=config.get(\"nli_classifier\", \"facebook/bart-large-mnli\"),\n",
    ")\n",
    "\n",
    "with open(\"data/evaluation/intent_classification.json\", \"r\", encoding=\"utf-8\") as infile: \n",
    "    data = json.load(infile)\n"
   ]
  },
  {
   "cell_type": "code",
   "execution_count": 4,
   "metadata": {},
   "outputs": [
    {
     "name": "stderr",
     "output_type": "stream",
     "text": [
      "\u001b[38;20m2024-01-28 13:29:39,601 - src.nli - INFO - classified intent: situation 0.73 (nli.py:21)\u001b[0m\n",
      "\u001b[38;20m2024-01-28 13:29:40,272 - src.nli - INFO - classified intent: situation 0.70 (nli.py:21)\u001b[0m\n",
      "\u001b[38;20m2024-01-28 13:29:41,052 - src.nli - INFO - classified intent: situation 0.77 (nli.py:21)\u001b[0m\n",
      "\u001b[38;20m2024-01-28 13:29:41,797 - src.nli - INFO - classified intent: situation 0.60 (nli.py:21)\u001b[0m\n",
      "\u001b[38;20m2024-01-28 13:29:42,600 - src.nli - INFO - classified intent: situation 0.82 (nli.py:21)\u001b[0m\n",
      "\u001b[38;20m2024-01-28 13:29:43,314 - src.nli - INFO - classified intent: situation 0.71 (nli.py:21)\u001b[0m\n",
      "\u001b[38;20m2024-01-28 13:29:43,979 - src.nli - INFO - classified intent: situation 0.80 (nli.py:21)\u001b[0m\n",
      "\u001b[38;20m2024-01-28 13:29:44,665 - src.nli - INFO - classified intent: situation 0.67 (nli.py:21)\u001b[0m\n",
      "\u001b[38;20m2024-01-28 13:29:45,336 - src.nli - INFO - classified intent: situation 0.83 (nli.py:21)\u001b[0m\n",
      "\u001b[38;20m2024-01-28 13:29:46,144 - src.nli - INFO - classified intent: situation 0.74 (nli.py:21)\u001b[0m\n",
      "\u001b[38;20m2024-01-28 13:29:46,865 - src.nli - INFO - classified intent: deckbuilding 0.68 (nli.py:21)\u001b[0m\n",
      "\u001b[38;20m2024-01-28 13:29:47,543 - src.nli - INFO - classified intent: deckbuilding 0.59 (nli.py:21)\u001b[0m\n",
      "\u001b[38;20m2024-01-28 13:29:48,246 - src.nli - INFO - classified intent: deckbuilding 0.70 (nli.py:21)\u001b[0m\n",
      "\u001b[38;20m2024-01-28 13:29:48,892 - src.nli - INFO - classified intent: deckbuilding 0.46 (nli.py:21)\u001b[0m\n",
      "\u001b[38;20m2024-01-28 13:29:49,534 - src.nli - INFO - classified intent: deckbuilding 0.69 (nli.py:21)\u001b[0m\n",
      "\u001b[38;20m2024-01-28 13:29:50,173 - src.nli - INFO - classified intent: deckbuilding 0.68 (nli.py:21)\u001b[0m\n",
      "\u001b[38;20m2024-01-28 13:29:50,801 - src.nli - INFO - classified intent: deckbuilding 0.70 (nli.py:21)\u001b[0m\n",
      "\u001b[38;20m2024-01-28 13:29:51,579 - src.nli - INFO - classified intent: deckbuilding 0.51 (nli.py:21)\u001b[0m\n",
      "\u001b[38;20m2024-01-28 13:29:52,321 - src.nli - INFO - classified intent: deckbuilding 0.68 (nli.py:21)\u001b[0m\n",
      "\u001b[38;20m2024-01-28 13:29:53,202 - src.nli - INFO - classified intent: situation 0.51 (nli.py:21)\u001b[0m\n",
      "\u001b[38;20m2024-01-28 13:29:53,900 - src.nli - INFO - classified intent: situation 0.47 (nli.py:21)\u001b[0m\n",
      "\u001b[38;20m2024-01-28 13:29:54,581 - src.nli - INFO - classified intent: situation 0.83 (nli.py:21)\u001b[0m\n",
      "\u001b[38;20m2024-01-28 13:29:55,396 - src.nli - INFO - classified intent: situation 0.74 (nli.py:21)\u001b[0m\n",
      "\u001b[38;20m2024-01-28 13:29:56,074 - src.nli - INFO - classified intent: situation 0.74 (nli.py:21)\u001b[0m\n",
      "\u001b[38;20m2024-01-28 13:29:56,756 - src.nli - INFO - classified intent: rules 0.79 (nli.py:21)\u001b[0m\n",
      "\u001b[38;20m2024-01-28 13:29:57,452 - src.nli - INFO - classified intent: situation 0.52 (nli.py:21)\u001b[0m\n",
      "\u001b[38;20m2024-01-28 13:29:58,188 - src.nli - INFO - classified intent: situation 0.52 (nli.py:21)\u001b[0m\n",
      "\u001b[38;20m2024-01-28 13:29:58,860 - src.nli - INFO - classified intent: situation 0.76 (nli.py:21)\u001b[0m\n",
      "\u001b[38;20m2024-01-28 13:29:59,671 - src.nli - INFO - classified intent: situation 0.75 (nli.py:21)\u001b[0m\n",
      "\u001b[38;20m2024-01-28 13:30:00,353 - src.nli - INFO - classified intent: situation 0.76 (nli.py:21)\u001b[0m\n",
      "\u001b[38;20m2024-01-28 13:30:01,005 - src.nli - INFO - classified intent: situation 0.49 (nli.py:21)\u001b[0m\n",
      "\u001b[38;20m2024-01-28 13:30:01,635 - src.nli - INFO - classified intent: conversation 0.67 (nli.py:21)\u001b[0m\n",
      "\u001b[38;20m2024-01-28 13:30:02,289 - src.nli - INFO - classified intent: situation 0.63 (nli.py:21)\u001b[0m\n",
      "\u001b[38;20m2024-01-28 13:30:03,158 - src.nli - INFO - classified intent: conversation 0.41 (nli.py:21)\u001b[0m\n",
      "\u001b[38;20m2024-01-28 13:30:03,953 - src.nli - INFO - classified intent: conversation 0.54 (nli.py:21)\u001b[0m\n",
      "\u001b[38;20m2024-01-28 13:30:05,317 - src.nli - INFO - classified intent: situation 0.78 (nli.py:21)\u001b[0m\n",
      "\u001b[38;20m2024-01-28 13:30:06,427 - src.nli - INFO - classified intent: situation 0.60 (nli.py:21)\u001b[0m\n",
      "\u001b[38;20m2024-01-28 13:30:07,820 - src.nli - INFO - classified intent: situation 0.57 (nli.py:21)\u001b[0m\n",
      "\u001b[38;20m2024-01-28 13:30:09,428 - src.nli - INFO - classified intent: situation 0.67 (nli.py:21)\u001b[0m\n",
      "\u001b[38;20m2024-01-28 13:30:11,342 - src.nli - INFO - classified intent: rules 0.73 (nli.py:21)\u001b[0m\n",
      "\u001b[38;20m2024-01-28 13:30:12,658 - src.nli - INFO - classified intent: situation 0.69 (nli.py:21)\u001b[0m\n",
      "\u001b[38;20m2024-01-28 13:30:13,934 - src.nli - INFO - classified intent: deckbuilding 0.75 (nli.py:21)\u001b[0m\n",
      "\u001b[38;20m2024-01-28 13:30:15,450 - src.nli - INFO - classified intent: deckbuilding 0.72 (nli.py:21)\u001b[0m\n",
      "\u001b[38;20m2024-01-28 13:30:16,883 - src.nli - INFO - classified intent: deckbuilding 0.78 (nli.py:21)\u001b[0m\n",
      "\u001b[38;20m2024-01-28 13:30:18,293 - src.nli - INFO - classified intent: deckbuilding 0.72 (nli.py:21)\u001b[0m\n",
      "\u001b[38;20m2024-01-28 13:30:19,704 - src.nli - INFO - classified intent: deckbuilding 0.49 (nli.py:21)\u001b[0m\n",
      "\u001b[38;20m2024-01-28 13:30:20,979 - src.nli - INFO - classified intent: deckbuilding 0.77 (nli.py:21)\u001b[0m\n",
      "\u001b[38;20m2024-01-28 13:30:22,204 - src.nli - INFO - classified intent: situation 0.73 (nli.py:21)\u001b[0m\n",
      "\u001b[38;20m2024-01-28 13:30:23,143 - src.nli - INFO - classified intent: situation 0.75 (nli.py:21)\u001b[0m\n",
      "\u001b[38;20m2024-01-28 13:30:24,294 - src.nli - INFO - classified intent: situation 0.75 (nli.py:21)\u001b[0m\n",
      "\u001b[38;20m2024-01-28 13:30:25,462 - src.nli - INFO - classified intent: situation 0.79 (nli.py:21)\u001b[0m\n",
      "\u001b[38;20m2024-01-28 13:30:26,654 - src.nli - INFO - classified intent: situation 0.80 (nli.py:21)\u001b[0m\n",
      "\u001b[38;20m2024-01-28 13:30:27,939 - src.nli - INFO - classified intent: situation 0.79 (nli.py:21)\u001b[0m\n",
      "\u001b[38;20m2024-01-28 13:30:28,760 - src.nli - INFO - classified intent: situation 0.63 (nli.py:21)\u001b[0m\n"
     ]
    },
    {
     "name": "stdout",
     "output_type": "stream",
     "text": [
      "classified  54  documents\n"
     ]
    }
   ],
   "source": [
    "\n",
    "predictions, references = [], []\n",
    "for text, expected_intent in data: \n",
    "    intent, score = classify_intent(text, model)\n",
    "    predictions.append(intent)\n",
    "    references.append(expected_intent)\n",
    "print(\"classified \", len(predictions), \" documents\")"
   ]
  },
  {
   "cell_type": "code",
   "execution_count": 5,
   "metadata": {},
   "outputs": [
    {
     "name": "stdout",
     "output_type": "stream",
     "text": [
      "['deckbuilding', 'rules', 'conversation']\n"
     ]
    },
    {
     "data": {
      "text/html": [
       "<div>\n",
       "<style scoped>\n",
       "    .dataframe tbody tr th:only-of-type {\n",
       "        vertical-align: middle;\n",
       "    }\n",
       "\n",
       "    .dataframe tbody tr th {\n",
       "        vertical-align: top;\n",
       "    }\n",
       "\n",
       "    .dataframe thead th {\n",
       "        text-align: right;\n",
       "    }\n",
       "</style>\n",
       "<table border=\"1\" class=\"dataframe\">\n",
       "  <thead>\n",
       "    <tr style=\"text-align: right;\">\n",
       "      <th></th>\n",
       "      <th>labels</th>\n",
       "      <th>f1</th>\n",
       "      <th>recall</th>\n",
       "    </tr>\n",
       "  </thead>\n",
       "  <tbody>\n",
       "    <tr>\n",
       "      <th>2</th>\n",
       "      <td>conversation</td>\n",
       "      <td>0.260870</td>\n",
       "      <td>0.1500</td>\n",
       "    </tr>\n",
       "    <tr>\n",
       "      <th>1</th>\n",
       "      <td>rules</td>\n",
       "      <td>0.666667</td>\n",
       "      <td>1.0000</td>\n",
       "    </tr>\n",
       "    <tr>\n",
       "      <th>0</th>\n",
       "      <td>deckbuilding</td>\n",
       "      <td>0.967742</td>\n",
       "      <td>0.9375</td>\n",
       "    </tr>\n",
       "  </tbody>\n",
       "</table>\n",
       "</div>"
      ],
      "text/plain": [
       "         labels        f1  recall\n",
       "2  conversation  0.260870  0.1500\n",
       "1         rules  0.666667  1.0000\n",
       "0  deckbuilding  0.967742  0.9375"
      ]
     },
     "execution_count": 5,
     "metadata": {},
     "output_type": "execute_result"
    }
   ],
   "source": [
    "from sklearn.metrics import f1_score, confusion_matrix, recall_score\n",
    "from src.nli import Intent\n",
    "import pandas as pd \n",
    "\n",
    "classes = [\"deckbuilding\", \"rules\", \"conversation\"]\n",
    "\n",
    "prediction_classes = [classes.index(pred) for pred in predictions]\n",
    "reference_classes = [classes.index(ref) for ref in references]\n",
    "\n",
    "print(classes)\n",
    "f1_scores = f1_score(y_true=reference_classes, y_pred=prediction_classes, labels=list(range(len(classes))), average=None)\n",
    "recall_scores = recall_score(y_true=reference_classes, y_pred=prediction_classes, labels=list(range(len(classes))), average=None)\n",
    "\n",
    "evaluation = pd.DataFrame({\n",
    "    \"labels\": classes, \n",
    "    \"f1\": f1_scores, \n",
    "    \"recall\": recall_scores\n",
    "}).sort_values(\"f1\")\n",
    "evaluation "
   ]
  },
  {
   "cell_type": "code",
   "execution_count": 6,
   "metadata": {},
   "outputs": [
    {
     "data": {
      "text/html": [
       "<div>\n",
       "<style scoped>\n",
       "    .dataframe tbody tr th:only-of-type {\n",
       "        vertical-align: middle;\n",
       "    }\n",
       "\n",
       "    .dataframe tbody tr th {\n",
       "        vertical-align: top;\n",
       "    }\n",
       "\n",
       "    .dataframe thead th {\n",
       "        text-align: right;\n",
       "    }\n",
       "</style>\n",
       "<table border=\"1\" class=\"dataframe\">\n",
       "  <thead>\n",
       "    <tr style=\"text-align: right;\">\n",
       "      <th></th>\n",
       "      <th>deckbuilding</th>\n",
       "      <th>rules</th>\n",
       "      <th>conversation</th>\n",
       "    </tr>\n",
       "  </thead>\n",
       "  <tbody>\n",
       "    <tr>\n",
       "      <th>deckbuilding</th>\n",
       "      <td>15</td>\n",
       "      <td>1</td>\n",
       "      <td>0</td>\n",
       "    </tr>\n",
       "    <tr>\n",
       "      <th>rules</th>\n",
       "      <td>0</td>\n",
       "      <td>18</td>\n",
       "      <td>0</td>\n",
       "    </tr>\n",
       "    <tr>\n",
       "      <th>conversation</th>\n",
       "      <td>0</td>\n",
       "      <td>17</td>\n",
       "      <td>3</td>\n",
       "    </tr>\n",
       "  </tbody>\n",
       "</table>\n",
       "</div>"
      ],
      "text/plain": [
       "              deckbuilding  rules  conversation\n",
       "deckbuilding            15      1             0\n",
       "rules                    0     18             0\n",
       "conversation             0     17             3"
      ]
     },
     "execution_count": 6,
     "metadata": {},
     "output_type": "execute_result"
    }
   ],
   "source": [
    "matrix = confusion_matrix(y_true=reference_classes, y_pred=prediction_classes, labels=list(range(len(classes))))\n",
    "pd.DataFrame(matrix, columns=classes, index=classes)"
   ]
  }
 ],
 "metadata": {
  "kernelspec": {
   "display_name": "mtg-data-service-9-UqJYn5-py3.11",
   "language": "python",
   "name": "python3"
  },
  "language_info": {
   "codemirror_mode": {
    "name": "ipython",
    "version": 3
   },
   "file_extension": ".py",
   "mimetype": "text/x-python",
   "name": "python",
   "nbconvert_exporter": "python",
   "pygments_lexer": "ipython3",
   "version": "3.11.7"
  }
 },
 "nbformat": 4,
 "nbformat_minor": 2
}
