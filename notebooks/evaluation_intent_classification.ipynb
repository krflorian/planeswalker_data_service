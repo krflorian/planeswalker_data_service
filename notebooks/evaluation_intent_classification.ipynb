{
 "cells": [
  {
   "cell_type": "code",
   "execution_count": 3,
   "metadata": {},
   "outputs": [],
   "source": [
    "from pathlib import Path \n",
    "import json\n",
    "from transformers import pipeline\n",
    "\n",
    "from src.nli import classify_intent\n",
    "from src.util import load_config\n",
    "\n",
    "config = load_config(Path(\"configs/config.yaml\"))\n",
    "\n",
    "from transformers import pipeline\n",
    "\n",
    "zeroshot_classifier = pipeline(\n",
    "    \"zero-shot-classification\",\n",
    "    model=\"../data/models/deberta-v3-large-zeroshot-v1.1-all-33\",\n",
    ")\n",
    "\n",
    "with open(\"data/evaluation/intent_classification.json\", \"r\", encoding=\"utf-8\") as infile: \n",
    "    data = json.load(infile)\n"
   ]
  },
  {
   "cell_type": "code",
   "execution_count": 4,
   "metadata": {},
   "outputs": [
    {
     "name": "stderr",
     "output_type": "stream",
     "text": [
      "\u001b[38;20m2024-02-03 13:10:05,888 - src.nli - INFO - classified intent: conversation 0.87 (nli.py:42)\u001b[0m\n",
      "\u001b[38;20m2024-02-03 13:10:10,573 - src.nli - INFO - classified intent: conversation 0.96 (nli.py:42)\u001b[0m\n",
      "\u001b[38;20m2024-02-03 13:10:15,781 - src.nli - INFO - classified intent: conversation 0.45 (nli.py:42)\u001b[0m\n",
      "\u001b[38;20m2024-02-03 13:10:21,000 - src.nli - INFO - classified intent: conversation 0.99 (nli.py:42)\u001b[0m\n",
      "\u001b[38;20m2024-02-03 13:10:25,909 - src.nli - INFO - classified intent: conversation 0.67 (nli.py:42)\u001b[0m\n",
      "\u001b[38;20m2024-02-03 13:10:30,731 - src.nli - INFO - classified intent: conversation 0.99 (nli.py:42)\u001b[0m\n",
      "\u001b[38;20m2024-02-03 13:10:35,576 - src.nli - INFO - classified intent: rules 0.35 (nli.py:42)\u001b[0m\n",
      "\u001b[38;20m2024-02-03 13:10:40,743 - src.nli - INFO - classified intent: conversation 0.82 (nli.py:42)\u001b[0m\n",
      "\u001b[38;20m2024-02-03 13:10:45,632 - src.nli - INFO - classified intent: conversation 0.92 (nli.py:42)\u001b[0m\n",
      "\u001b[38;20m2024-02-03 13:10:54,262 - src.nli - INFO - classified intent: deckbuilding 0.28 (nli.py:42)\u001b[0m\n",
      "\u001b[38;20m2024-02-03 13:11:07,174 - src.nli - INFO - classified intent: deckbuilding 0.79 (nli.py:42)\u001b[0m\n",
      "\u001b[38;20m2024-02-03 13:11:13,067 - src.nli - INFO - classified intent: deckbuilding 0.51 (nli.py:42)\u001b[0m\n",
      "\u001b[38;20m2024-02-03 13:11:18,762 - src.nli - INFO - classified intent: deckbuilding 0.36 (nli.py:42)\u001b[0m\n",
      "\u001b[38;20m2024-02-03 13:11:24,025 - src.nli - INFO - classified intent: deckbuilding 0.27 (nli.py:42)\u001b[0m\n",
      "\u001b[38;20m2024-02-03 13:11:29,178 - src.nli - INFO - classified intent: deckbuilding 0.86 (nli.py:42)\u001b[0m\n",
      "\u001b[38;20m2024-02-03 13:11:33,868 - src.nli - INFO - classified intent: deckbuilding 0.62 (nli.py:42)\u001b[0m\n",
      "\u001b[38;20m2024-02-03 13:11:39,036 - src.nli - INFO - classified intent: deckbuilding 0.88 (nli.py:42)\u001b[0m\n",
      "\u001b[38;20m2024-02-03 13:11:44,116 - src.nli - INFO - classified intent: deckbuilding 0.40 (nli.py:42)\u001b[0m\n",
      "\u001b[38;20m2024-02-03 13:11:50,080 - src.nli - INFO - classified intent: deckbuilding 0.65 (nli.py:42)\u001b[0m\n",
      "\u001b[38;20m2024-02-03 13:11:55,969 - src.nli - INFO - classified intent: deckbuilding 0.31 (nli.py:42)\u001b[0m\n",
      "\u001b[38;20m2024-02-03 13:12:01,144 - src.nli - INFO - classified intent: rules 0.63 (nli.py:42)\u001b[0m\n",
      "\u001b[38;20m2024-02-03 13:12:05,711 - src.nli - INFO - classified intent: rules 0.58 (nli.py:42)\u001b[0m\n",
      "\u001b[38;20m2024-02-03 13:12:10,996 - src.nli - INFO - classified intent: rules 0.83 (nli.py:42)\u001b[0m\n",
      "\u001b[38;20m2024-02-03 13:12:16,023 - src.nli - INFO - classified intent: deckbuilding 0.29 (nli.py:42)\u001b[0m\n",
      "\u001b[38;20m2024-02-03 13:12:20,906 - src.nli - INFO - classified intent: rules 0.47 (nli.py:42)\u001b[0m\n",
      "\u001b[38;20m2024-02-03 13:12:25,722 - src.nli - INFO - classified intent: rules 0.51 (nli.py:42)\u001b[0m\n",
      "\u001b[38;20m2024-02-03 13:12:30,405 - src.nli - INFO - classified intent: rules 0.24 (nli.py:42)\u001b[0m\n",
      "\u001b[38;20m2024-02-03 13:12:35,591 - src.nli - INFO - classified intent: rules 0.50 (nli.py:42)\u001b[0m\n",
      "\u001b[38;20m2024-02-03 13:12:41,214 - src.nli - INFO - classified intent: rules 0.77 (nli.py:42)\u001b[0m\n",
      "\u001b[38;20m2024-02-03 13:12:46,578 - src.nli - INFO - classified intent: rules 0.30 (nli.py:42)\u001b[0m\n",
      "\u001b[38;20m2024-02-03 13:12:51,687 - src.nli - INFO - classified intent: rules 0.67 (nli.py:42)\u001b[0m\n",
      "\u001b[38;20m2024-02-03 13:12:56,886 - src.nli - INFO - classified intent: deckbuilding 0.27 (nli.py:42)\u001b[0m\n",
      "\u001b[38;20m2024-02-03 13:13:01,638 - src.nli - INFO - classified intent: rules 0.18 (nli.py:42)\u001b[0m\n",
      "\u001b[38;20m2024-02-03 13:13:06,331 - src.nli - INFO - classified intent: deckbuilding 0.63 (nli.py:42)\u001b[0m\n",
      "\u001b[38;20m2024-02-03 13:13:11,094 - src.nli - INFO - classified intent: deckbuilding 0.16 (nli.py:42)\u001b[0m\n",
      "\u001b[38;20m2024-02-03 13:13:18,032 - src.nli - INFO - classified intent: rules 0.83 (nli.py:42)\u001b[0m\n",
      "\u001b[38;20m2024-02-03 13:13:24,475 - src.nli - INFO - classified intent: rules 0.53 (nli.py:42)\u001b[0m\n",
      "\u001b[38;20m2024-02-03 13:13:30,797 - src.nli - INFO - classified intent: rules 0.65 (nli.py:42)\u001b[0m\n",
      "\u001b[38;20m2024-02-03 13:13:36,889 - src.nli - INFO - classified intent: rules 0.64 (nli.py:42)\u001b[0m\n",
      "\u001b[38;20m2024-02-03 13:13:42,728 - src.nli - INFO - classified intent: rules 0.71 (nli.py:42)\u001b[0m\n",
      "\u001b[38;20m2024-02-03 13:13:48,454 - src.nli - INFO - classified intent: rules 0.89 (nli.py:42)\u001b[0m\n",
      "\u001b[38;20m2024-02-03 13:13:54,246 - src.nli - INFO - classified intent: deckbuilding 0.42 (nli.py:42)\u001b[0m\n",
      "\u001b[38;20m2024-02-03 13:14:00,348 - src.nli - INFO - classified intent: deckbuilding 0.83 (nli.py:42)\u001b[0m\n",
      "\u001b[38;20m2024-02-03 13:14:06,094 - src.nli - INFO - classified intent: deckbuilding 0.80 (nli.py:42)\u001b[0m\n",
      "\u001b[38;20m2024-02-03 13:14:12,059 - src.nli - INFO - classified intent: deckbuilding 0.39 (nli.py:42)\u001b[0m\n",
      "\u001b[38;20m2024-02-03 13:14:17,969 - src.nli - INFO - classified intent: deckbuilding 0.57 (nli.py:42)\u001b[0m\n",
      "\u001b[38;20m2024-02-03 13:14:23,538 - src.nli - INFO - classified intent: deckbuilding 0.81 (nli.py:42)\u001b[0m\n",
      "\u001b[38;20m2024-02-03 13:14:29,261 - src.nli - INFO - classified intent: conversation 0.50 (nli.py:42)\u001b[0m\n",
      "\u001b[38;20m2024-02-03 13:14:35,241 - src.nli - INFO - classified intent: conversation 0.80 (nli.py:42)\u001b[0m\n",
      "\u001b[38;20m2024-02-03 13:14:40,986 - src.nli - INFO - classified intent: conversation 1.00 (nli.py:42)\u001b[0m\n",
      "\u001b[38;20m2024-02-03 13:14:46,474 - src.nli - INFO - classified intent: conversation 0.97 (nli.py:42)\u001b[0m\n",
      "\u001b[38;20m2024-02-03 13:14:52,011 - src.nli - INFO - classified intent: conversation 0.73 (nli.py:42)\u001b[0m\n",
      "\u001b[38;20m2024-02-03 13:14:57,716 - src.nli - INFO - classified intent: conversation 0.95 (nli.py:42)\u001b[0m\n",
      "\u001b[38;20m2024-02-03 13:15:01,980 - src.nli - INFO - classified intent: deckbuilding 0.53 (nli.py:42)\u001b[0m\n",
      "\u001b[38;20m2024-02-03 13:15:06,333 - src.nli - INFO - classified intent: deckbuilding 0.65 (nli.py:42)\u001b[0m\n",
      "\u001b[38;20m2024-02-03 13:15:10,968 - src.nli - INFO - classified intent: deckbuilding 0.30 (nli.py:42)\u001b[0m\n",
      "\u001b[38;20m2024-02-03 13:15:15,241 - src.nli - INFO - classified intent: deckbuilding 0.20 (nli.py:42)\u001b[0m\n"
     ]
    },
    {
     "name": "stdout",
     "output_type": "stream",
     "text": [
      "runtime 314.84 - 5.523514\n",
      "classified  57  documents\n"
     ]
    }
   ],
   "source": [
    "import time \n",
    "\n",
    "start = time.time()\n",
    "predictions, references = [], []\n",
    "for text, expected_intent in data: \n",
    "    intent, score = classify_intent(text, zeroshot_classifier)\n",
    "    predictions.append(intent)\n",
    "    references.append(expected_intent)\n",
    "runtime = time.time()-start\n",
    "print(f\"runtime {runtime:.2f} - {runtime/len(data):2f}\")\n",
    "print(\"classified \", len(predictions), \" documents\")"
   ]
  },
  {
   "cell_type": "code",
   "execution_count": 5,
   "metadata": {},
   "outputs": [
    {
     "name": "stdout",
     "output_type": "stream",
     "text": [
      "['deckbuilding', 'rules', 'conversation']\n"
     ]
    },
    {
     "data": {
      "text/html": [
       "<div>\n",
       "<style scoped>\n",
       "    .dataframe tbody tr th:only-of-type {\n",
       "        vertical-align: middle;\n",
       "    }\n",
       "\n",
       "    .dataframe tbody tr th {\n",
       "        vertical-align: top;\n",
       "    }\n",
       "\n",
       "    .dataframe thead th {\n",
       "        text-align: right;\n",
       "    }\n",
       "</style>\n",
       "<table border=\"1\" class=\"dataframe\">\n",
       "  <thead>\n",
       "    <tr style=\"text-align: right;\">\n",
       "      <th></th>\n",
       "      <th>labels</th>\n",
       "      <th>f1</th>\n",
       "      <th>recall</th>\n",
       "    </tr>\n",
       "  </thead>\n",
       "  <tbody>\n",
       "    <tr>\n",
       "      <th>2</th>\n",
       "      <td>conversation</td>\n",
       "      <td>0.800000</td>\n",
       "      <td>0.666667</td>\n",
       "    </tr>\n",
       "    <tr>\n",
       "      <th>0</th>\n",
       "      <td>deckbuilding</td>\n",
       "      <td>0.837209</td>\n",
       "      <td>1.000000</td>\n",
       "    </tr>\n",
       "    <tr>\n",
       "      <th>1</th>\n",
       "      <td>rules</td>\n",
       "      <td>0.888889</td>\n",
       "      <td>0.888889</td>\n",
       "    </tr>\n",
       "  </tbody>\n",
       "</table>\n",
       "</div>"
      ],
      "text/plain": [
       "         labels        f1    recall\n",
       "2  conversation  0.800000  0.666667\n",
       "0  deckbuilding  0.837209  1.000000\n",
       "1         rules  0.888889  0.888889"
      ]
     },
     "execution_count": 5,
     "metadata": {},
     "output_type": "execute_result"
    }
   ],
   "source": [
    "from sklearn.metrics import f1_score, confusion_matrix, recall_score\n",
    "import pandas as pd \n",
    "\n",
    "classes = [\"deckbuilding\", \"rules\", \"conversation\"]\n",
    "\n",
    "prediction_classes = [classes.index(pred) for pred in predictions]\n",
    "reference_classes = [classes.index(ref) for ref in references]\n",
    "\n",
    "print(classes)\n",
    "f1_scores = f1_score(y_true=reference_classes, y_pred=prediction_classes, labels=list(range(len(classes))), average=None)\n",
    "recall_scores = recall_score(y_true=reference_classes, y_pred=prediction_classes, labels=list(range(len(classes))), average=None)\n",
    "\n",
    "evaluation = pd.DataFrame({\n",
    "    \"labels\": classes, \n",
    "    \"f1\": f1_scores, \n",
    "    \"recall\": recall_scores\n",
    "}).sort_values(\"f1\")\n",
    "evaluation "
   ]
  },
  {
   "cell_type": "code",
   "execution_count": 6,
   "metadata": {},
   "outputs": [
    {
     "data": {
      "text/html": [
       "<div>\n",
       "<style scoped>\n",
       "    .dataframe tbody tr th:only-of-type {\n",
       "        vertical-align: middle;\n",
       "    }\n",
       "\n",
       "    .dataframe tbody tr th {\n",
       "        vertical-align: top;\n",
       "    }\n",
       "\n",
       "    .dataframe thead th {\n",
       "        text-align: right;\n",
       "    }\n",
       "</style>\n",
       "<table border=\"1\" class=\"dataframe\">\n",
       "  <thead>\n",
       "    <tr style=\"text-align: right;\">\n",
       "      <th></th>\n",
       "      <th>deckbuilding</th>\n",
       "      <th>rules</th>\n",
       "      <th>conversation</th>\n",
       "    </tr>\n",
       "  </thead>\n",
       "  <tbody>\n",
       "    <tr>\n",
       "      <th>deckbuilding</th>\n",
       "      <td>18</td>\n",
       "      <td>0</td>\n",
       "      <td>0</td>\n",
       "    </tr>\n",
       "    <tr>\n",
       "      <th>rules</th>\n",
       "      <td>2</td>\n",
       "      <td>16</td>\n",
       "      <td>0</td>\n",
       "    </tr>\n",
       "    <tr>\n",
       "      <th>conversation</th>\n",
       "      <td>5</td>\n",
       "      <td>2</td>\n",
       "      <td>14</td>\n",
       "    </tr>\n",
       "  </tbody>\n",
       "</table>\n",
       "</div>"
      ],
      "text/plain": [
       "              deckbuilding  rules  conversation\n",
       "deckbuilding            18      0             0\n",
       "rules                    2     16             0\n",
       "conversation             5      2            14"
      ]
     },
     "execution_count": 6,
     "metadata": {},
     "output_type": "execute_result"
    }
   ],
   "source": [
    "matrix = confusion_matrix(y_true=reference_classes, y_pred=prediction_classes, labels=list(range(len(classes))))\n",
    "pd.DataFrame(matrix, columns=classes, index=classes)"
   ]
  }
 ],
 "metadata": {
  "kernelspec": {
   "display_name": "mtg-data-service-9-UqJYn5-py3.11",
   "language": "python",
   "name": "python3"
  },
  "language_info": {
   "codemirror_mode": {
    "name": "ipython",
    "version": 3
   },
   "file_extension": ".py",
   "mimetype": "text/x-python",
   "name": "python",
   "nbconvert_exporter": "python",
   "pygments_lexer": "ipython3",
   "version": "3.11.7"
  }
 },
 "nbformat": 4,
 "nbformat_minor": 2
}
