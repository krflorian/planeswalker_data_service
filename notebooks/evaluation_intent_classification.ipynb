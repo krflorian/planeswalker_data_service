{
 "cells": [
  {
   "cell_type": "code",
   "execution_count": 1,
   "metadata": {},
   "outputs": [
    {
     "name": "stderr",
     "output_type": "stream",
     "text": [
      "c:\\Users\\flori\\AppData\\Local\\pypoetry\\Cache\\virtualenvs\\mtg-data-service-9-UqJYn5-py3.11\\Lib\\site-packages\\tqdm\\auto.py:21: TqdmWarning: IProgress not found. Please update jupyter and ipywidgets. See https://ipywidgets.readthedocs.io/en/stable/user_install.html\n",
      "  from .autonotebook import tqdm as notebook_tqdm\n"
     ]
    }
   ],
   "source": [
    "from pathlib import Path \n",
    "import json\n",
    "from transformers import pipeline\n",
    "\n",
    "from src.nli import classify_intent\n",
    "from src.util import load_config\n",
    "\n",
    "config = load_config(Path(\"configs/config.yaml\"))\n",
    "model = pipeline(\n",
    "    \"zero-shot-classification\",\n",
    "    model=config.get(\"nli_classifier\", \"facebook/bart-large-mnli\"),\n",
    ")\n",
    "\n",
    "with open(\"data/test_data/intent_classification2.json\", \"r\", encoding=\"utf-8\") as infile: \n",
    "    data = json.load(infile)\n"
   ]
  },
  {
   "cell_type": "code",
   "execution_count": 2,
   "metadata": {},
   "outputs": [
    {
     "name": "stderr",
     "output_type": "stream",
     "text": [
      "\u001b[38;20m2024-01-28 12:16:54,568 - src.nli - INFO - classified intent: rules 0.50 (nli.py:20)\u001b[0m\n",
      "\u001b[38;20m2024-01-28 12:16:55,111 - src.nli - INFO - classified intent: conversation 0.62 (nli.py:20)\u001b[0m\n",
      "\u001b[38;20m2024-01-28 12:16:55,587 - src.nli - INFO - classified intent: conversation 0.47 (nli.py:20)\u001b[0m\n",
      "\u001b[38;20m2024-01-28 12:16:56,095 - src.nli - INFO - classified intent: deckbuilding 0.41 (nli.py:20)\u001b[0m\n",
      "\u001b[38;20m2024-01-28 12:16:56,645 - src.nli - INFO - classified intent: rules 0.43 (nli.py:20)\u001b[0m\n",
      "\u001b[38;20m2024-01-28 12:16:57,160 - src.nli - INFO - classified intent: conversation 0.58 (nli.py:20)\u001b[0m\n",
      "\u001b[38;20m2024-01-28 12:16:57,615 - src.nli - INFO - classified intent: rules 0.41 (nli.py:20)\u001b[0m\n",
      "\u001b[38;20m2024-01-28 12:16:58,097 - src.nli - INFO - classified intent: rules 0.59 (nli.py:20)\u001b[0m\n",
      "\u001b[38;20m2024-01-28 12:16:58,583 - src.nli - INFO - classified intent: conversation 0.43 (nli.py:20)\u001b[0m\n",
      "\u001b[38;20m2024-01-28 12:16:59,099 - src.nli - INFO - classified intent: rules 0.53 (nli.py:20)\u001b[0m\n",
      "\u001b[38;20m2024-01-28 12:16:59,563 - src.nli - INFO - classified intent: deckbuilding 0.89 (nli.py:20)\u001b[0m\n",
      "\u001b[38;20m2024-01-28 12:17:00,068 - src.nli - INFO - classified intent: deckbuilding 0.81 (nli.py:20)\u001b[0m\n",
      "\u001b[38;20m2024-01-28 12:17:00,574 - src.nli - INFO - classified intent: deckbuilding 0.91 (nli.py:20)\u001b[0m\n",
      "\u001b[38;20m2024-01-28 12:17:01,045 - src.nli - INFO - classified intent: deckbuilding 0.73 (nli.py:20)\u001b[0m\n",
      "\u001b[38;20m2024-01-28 12:17:01,530 - src.nli - INFO - classified intent: deckbuilding 0.91 (nli.py:20)\u001b[0m\n",
      "\u001b[38;20m2024-01-28 12:17:02,067 - src.nli - INFO - classified intent: deckbuilding 0.87 (nli.py:20)\u001b[0m\n",
      "\u001b[38;20m2024-01-28 12:17:02,525 - src.nli - INFO - classified intent: deckbuilding 0.91 (nli.py:20)\u001b[0m\n",
      "\u001b[38;20m2024-01-28 12:17:03,077 - src.nli - INFO - classified intent: deckbuilding 0.83 (nli.py:20)\u001b[0m\n",
      "\u001b[38;20m2024-01-28 12:17:03,601 - src.nli - INFO - classified intent: deckbuilding 0.92 (nli.py:20)\u001b[0m\n",
      "\u001b[38;20m2024-01-28 12:17:04,137 - src.nli - INFO - classified intent: deckbuilding 0.71 (nli.py:20)\u001b[0m\n",
      "\u001b[38;20m2024-01-28 12:17:04,598 - src.nli - INFO - classified intent: deckbuilding 0.70 (nli.py:20)\u001b[0m\n",
      "\u001b[38;20m2024-01-28 12:17:05,089 - src.nli - INFO - classified intent: rules 0.72 (nli.py:20)\u001b[0m\n",
      "\u001b[38;20m2024-01-28 12:17:05,619 - src.nli - INFO - classified intent: rules 0.88 (nli.py:20)\u001b[0m\n",
      "\u001b[38;20m2024-01-28 12:17:06,085 - src.nli - INFO - classified intent: rules 0.81 (nli.py:20)\u001b[0m\n",
      "\u001b[38;20m2024-01-28 12:17:06,537 - src.nli - INFO - classified intent: rules 0.96 (nli.py:20)\u001b[0m\n",
      "\u001b[38;20m2024-01-28 12:17:07,011 - src.nli - INFO - classified intent: rules 0.86 (nli.py:20)\u001b[0m\n",
      "\u001b[38;20m2024-01-28 12:17:07,512 - src.nli - INFO - classified intent: rules 0.50 (nli.py:20)\u001b[0m\n",
      "\u001b[38;20m2024-01-28 12:17:07,981 - src.nli - INFO - classified intent: rules 0.63 (nli.py:20)\u001b[0m\n",
      "\u001b[38;20m2024-01-28 12:17:08,530 - src.nli - INFO - classified intent: rules 0.78 (nli.py:20)\u001b[0m\n",
      "\u001b[38;20m2024-01-28 12:17:09,099 - src.nli - INFO - classified intent: rules 0.54 (nli.py:20)\u001b[0m\n",
      "\u001b[38;20m2024-01-28 12:17:09,694 - src.nli - INFO - classified intent: rules 0.50 (nli.py:20)\u001b[0m\n",
      "\u001b[38;20m2024-01-28 12:17:10,190 - src.nli - INFO - classified intent: conversation 0.87 (nli.py:20)\u001b[0m\n",
      "\u001b[38;20m2024-01-28 12:17:10,641 - src.nli - INFO - classified intent: conversation 0.52 (nli.py:20)\u001b[0m\n",
      "\u001b[38;20m2024-01-28 12:17:11,218 - src.nli - INFO - classified intent: conversation 0.62 (nli.py:20)\u001b[0m\n",
      "\u001b[38;20m2024-01-28 12:17:11,608 - src.nli - INFO - classified intent: conversation 0.81 (nli.py:20)\u001b[0m\n",
      "\u001b[38;20m2024-01-28 12:17:12,536 - src.nli - INFO - classified intent: rules 0.73 (nli.py:20)\u001b[0m\n",
      "\u001b[38;20m2024-01-28 12:17:13,372 - src.nli - INFO - classified intent: rules 0.97 (nli.py:20)\u001b[0m\n",
      "\u001b[38;20m2024-01-28 12:17:14,200 - src.nli - INFO - classified intent: rules 0.71 (nli.py:20)\u001b[0m\n",
      "\u001b[38;20m2024-01-28 12:17:15,147 - src.nli - INFO - classified intent: rules 0.91 (nli.py:20)\u001b[0m\n",
      "\u001b[38;20m2024-01-28 12:17:16,088 - src.nli - INFO - classified intent: rules 0.96 (nli.py:20)\u001b[0m\n",
      "\u001b[38;20m2024-01-28 12:17:17,079 - src.nli - INFO - classified intent: rules 0.69 (nli.py:20)\u001b[0m\n",
      "\u001b[38;20m2024-01-28 12:17:18,116 - src.nli - INFO - classified intent: deckbuilding 0.95 (nli.py:20)\u001b[0m\n",
      "\u001b[38;20m2024-01-28 12:17:19,231 - src.nli - INFO - classified intent: deckbuilding 0.93 (nli.py:20)\u001b[0m\n",
      "\u001b[38;20m2024-01-28 12:17:20,196 - src.nli - INFO - classified intent: deckbuilding 0.93 (nli.py:20)\u001b[0m\n",
      "\u001b[38;20m2024-01-28 12:17:21,116 - src.nli - INFO - classified intent: deckbuilding 0.90 (nli.py:20)\u001b[0m\n",
      "\u001b[38;20m2024-01-28 12:17:21,968 - src.nli - INFO - classified intent: deckbuilding 0.86 (nli.py:20)\u001b[0m\n",
      "\u001b[38;20m2024-01-28 12:17:22,796 - src.nli - INFO - classified intent: deckbuilding 0.91 (nli.py:20)\u001b[0m\n",
      "\u001b[38;20m2024-01-28 12:17:23,653 - src.nli - INFO - classified intent: rules 0.51 (nli.py:20)\u001b[0m\n",
      "\u001b[38;20m2024-01-28 12:17:24,307 - src.nli - INFO - classified intent: conversation 0.66 (nli.py:20)\u001b[0m\n",
      "\u001b[38;20m2024-01-28 12:17:25,126 - src.nli - INFO - classified intent: conversation 0.71 (nli.py:20)\u001b[0m\n",
      "\u001b[38;20m2024-01-28 12:17:26,015 - src.nli - INFO - classified intent: conversation 0.45 (nli.py:20)\u001b[0m\n",
      "\u001b[38;20m2024-01-28 12:17:26,882 - src.nli - INFO - classified intent: rules 0.50 (nli.py:20)\u001b[0m\n",
      "\u001b[38;20m2024-01-28 12:17:28,023 - src.nli - INFO - classified intent: conversation 0.66 (nli.py:20)\u001b[0m\n"
     ]
    },
    {
     "name": "stdout",
     "output_type": "stream",
     "text": [
      "classified  53  documents\n"
     ]
    }
   ],
   "source": [
    "\n",
    "predictions, references = [], []\n",
    "for text, expected_intent in data: \n",
    "    intent, score = classify_intent(text, model)\n",
    "    predictions.append(intent)\n",
    "    references.append(expected_intent)\n",
    "print(\"classified \", len(predictions), \" documents\")"
   ]
  },
  {
   "cell_type": "code",
   "execution_count": 4,
   "metadata": {},
   "outputs": [
    {
     "name": "stdout",
     "output_type": "stream",
     "text": [
      "['deckbuilding', 'rules', 'conversation']\n"
     ]
    },
    {
     "data": {
      "text/html": [
       "<div>\n",
       "<style scoped>\n",
       "    .dataframe tbody tr th:only-of-type {\n",
       "        vertical-align: middle;\n",
       "    }\n",
       "\n",
       "    .dataframe tbody tr th {\n",
       "        vertical-align: top;\n",
       "    }\n",
       "\n",
       "    .dataframe thead th {\n",
       "        text-align: right;\n",
       "    }\n",
       "</style>\n",
       "<table border=\"1\" class=\"dataframe\">\n",
       "  <thead>\n",
       "    <tr style=\"text-align: right;\">\n",
       "      <th></th>\n",
       "      <th>labels</th>\n",
       "      <th>f1</th>\n",
       "      <th>recall</th>\n",
       "    </tr>\n",
       "  </thead>\n",
       "  <tbody>\n",
       "    <tr>\n",
       "      <th>2</th>\n",
       "      <td>conversation</td>\n",
       "      <td>0.750000</td>\n",
       "      <td>0.600000</td>\n",
       "    </tr>\n",
       "    <tr>\n",
       "      <th>1</th>\n",
       "      <td>rules</td>\n",
       "      <td>0.800000</td>\n",
       "      <td>0.941176</td>\n",
       "    </tr>\n",
       "    <tr>\n",
       "      <th>0</th>\n",
       "      <td>deckbuilding</td>\n",
       "      <td>0.941176</td>\n",
       "      <td>1.000000</td>\n",
       "    </tr>\n",
       "  </tbody>\n",
       "</table>\n",
       "</div>"
      ],
      "text/plain": [
       "         labels        f1    recall\n",
       "2  conversation  0.750000  0.600000\n",
       "1         rules  0.800000  0.941176\n",
       "0  deckbuilding  0.941176  1.000000"
      ]
     },
     "execution_count": 4,
     "metadata": {},
     "output_type": "execute_result"
    }
   ],
   "source": [
    "from sklearn.metrics import f1_score, confusion_matrix, recall_score\n",
    "from src.nli import Intent\n",
    "import pandas as pd \n",
    "\n",
    "classes = [intent.value for intent in Intent]\n",
    "prediction_classes = [classes.index(pred) for pred in predictions]\n",
    "reference_classes = [classes.index(ref) for ref in references]\n",
    "\n",
    "print(classes)\n",
    "f1_scores = f1_score(y_true=reference_classes, y_pred=prediction_classes, labels=list(range(len(classes))), average=None)\n",
    "recall_scores = recall_score(y_true=reference_classes, y_pred=prediction_classes, labels=list(range(len(classes))), average=None)\n",
    "\n",
    "evaluation = pd.DataFrame({\n",
    "    \"labels\": classes, \n",
    "    \"f1\": f1_scores, \n",
    "    \"recall\": recall_scores\n",
    "}).sort_values(\"f1\")\n",
    "evaluation "
   ]
  },
  {
   "cell_type": "code",
   "execution_count": 6,
   "metadata": {},
   "outputs": [
    {
     "data": {
      "text/html": [
       "<div>\n",
       "<style scoped>\n",
       "    .dataframe tbody tr th:only-of-type {\n",
       "        vertical-align: middle;\n",
       "    }\n",
       "\n",
       "    .dataframe tbody tr th {\n",
       "        vertical-align: top;\n",
       "    }\n",
       "\n",
       "    .dataframe thead th {\n",
       "        text-align: right;\n",
       "    }\n",
       "</style>\n",
       "<table border=\"1\" class=\"dataframe\">\n",
       "  <thead>\n",
       "    <tr style=\"text-align: right;\">\n",
       "      <th></th>\n",
       "      <th>deckbuilding</th>\n",
       "      <th>rules</th>\n",
       "      <th>conversation</th>\n",
       "    </tr>\n",
       "  </thead>\n",
       "  <tbody>\n",
       "    <tr>\n",
       "      <th>deckbuilding</th>\n",
       "      <td>16</td>\n",
       "      <td>0</td>\n",
       "      <td>0</td>\n",
       "    </tr>\n",
       "    <tr>\n",
       "      <th>rules</th>\n",
       "      <td>1</td>\n",
       "      <td>16</td>\n",
       "      <td>0</td>\n",
       "    </tr>\n",
       "    <tr>\n",
       "      <th>conversation</th>\n",
       "      <td>1</td>\n",
       "      <td>7</td>\n",
       "      <td>12</td>\n",
       "    </tr>\n",
       "  </tbody>\n",
       "</table>\n",
       "</div>"
      ],
      "text/plain": [
       "              deckbuilding  rules  conversation\n",
       "deckbuilding            16      0             0\n",
       "rules                    1     16             0\n",
       "conversation             1      7            12"
      ]
     },
     "execution_count": 6,
     "metadata": {},
     "output_type": "execute_result"
    }
   ],
   "source": [
    "matrix = confusion_matrix(y_true=reference_classes, y_pred=prediction_classes, labels=list(range(len(classes))))\n",
    "pd.DataFrame(matrix, columns=classes, index=classes)"
   ]
  }
 ],
 "metadata": {
  "kernelspec": {
   "display_name": "mtg-data-service-9-UqJYn5-py3.11",
   "language": "python",
   "name": "python3"
  },
  "language_info": {
   "codemirror_mode": {
    "name": "ipython",
    "version": 3
   },
   "file_extension": ".py",
   "mimetype": "text/x-python",
   "name": "python",
   "nbconvert_exporter": "python",
   "pygments_lexer": "ipython3",
   "version": "3.11.7"
  }
 },
 "nbformat": 4,
 "nbformat_minor": 2
}
